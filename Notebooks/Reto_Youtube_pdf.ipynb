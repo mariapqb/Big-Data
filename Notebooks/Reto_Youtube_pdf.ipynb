{
 "cells": [
  {
   "cell_type": "code",
   "execution_count": 26,
   "id": "initial_id",
   "metadata": {
    "collapsed": true,
    "ExecuteTime": {
     "end_time": "2025-03-26T06:16:16.172431Z",
     "start_time": "2025-03-26T06:16:16.107812Z"
    }
   },
   "outputs": [],
   "source": [
    "import pandas as pd\n",
    "import matplotlib.pyplot as plt\n",
    "import seaborn as sns\n",
    "from wordcloud import WordCloud\n",
    "from sklearn.feature_extraction.text import TfidfVectorizer\n",
    "from sklearn.metrics.pairwise import cosine_similarity\n",
    "from reportlab.lib.pagesizes import letter\n",
    "from reportlab.pdfgen import canvas\n",
    "from reportlab.lib.utils import ImageReader"
   ]
  },
  {
   "cell_type": "code",
   "outputs": [],
   "source": [
    "# Cargar datos\n",
    "data = pd.read_csv(\"../Data/MXvideos.csv\", encoding='latin1')\n",
    "titles = data['title'].astype(str)\n",
    "\n",
    "# Vectorización TF-IDF\n",
    "vectorizer = TfidfVectorizer(stop_words='english')\n",
    "X = vectorizer.fit_transform(titles)"
   ],
   "metadata": {
    "collapsed": false,
    "ExecuteTime": {
     "end_time": "2025-03-26T06:16:20.724248Z",
     "start_time": "2025-03-26T06:16:16.182263Z"
    }
   },
   "id": "5e9a3a0bf51f7ded",
   "execution_count": 27
  },
  {
   "cell_type": "code",
   "outputs": [],
   "source": [
    "# Función para encontrar videos similares\n",
    "def get_similar_videos(query, top_n=10):\n",
    "    query_vec = vectorizer.transform([query])\n",
    "    similarities = cosine_similarity(query_vec, X).flatten()\n",
    "    top_indices = similarities.argsort()[-top_n:][::-1]\n",
    "    return data.iloc[top_indices][['title', 'channel_title', 'views']]\n",
    "# Consulta ejemplo\n",
    "query_video = \"Best music hits 2024\"\n",
    "recommended_videos = get_similar_videos(query_video)"
   ],
   "metadata": {
    "collapsed": false,
    "ExecuteTime": {
     "end_time": "2025-03-26T06:16:20.797806Z",
     "start_time": "2025-03-26T06:16:20.727387Z"
    }
   },
   "id": "839cb3784ba1e325",
   "execution_count": 28
  },
  {
   "cell_type": "code",
   "outputs": [
    {
     "data": {
      "text/plain": "<wordcloud.wordcloud.WordCloud at 0x27cf5ee3ed0>"
     },
     "execution_count": 29,
     "metadata": {},
     "output_type": "execute_result"
    }
   ],
   "source": [
    "# Nube de palabras\n",
    "wordcloud_text = ' '.join(titles)\n",
    "wordcloud = WordCloud(width=1000, height=500, background_color='black', colormap='cool', max_words=100).generate(wordcloud_text)\n",
    "wordcloud.to_file(\"wordcloud.png\")  # Guardar imagen"
   ],
   "metadata": {
    "collapsed": false,
    "ExecuteTime": {
     "end_time": "2025-03-26T06:16:26.673814Z",
     "start_time": "2025-03-26T06:16:20.806184Z"
    }
   },
   "id": "42d01246c57718da",
   "execution_count": 29
  },
  {
   "cell_type": "code",
   "outputs": [],
   "source": [
    "# Histograma de longitud de títulos\n",
    "plt.figure(figsize=(8, 4))\n",
    "sns.histplot(data['title'].apply(lambda x: len(x.split())), bins=30, kde=True, color='purple')\n",
    "plt.title(\"Distribución de la Longitud de los Títulos\")\n",
    "plt.xlabel(\"Número de Palabras\")\n",
    "plt.ylabel(\"Frecuencia\")\n",
    "plt.savefig(\"title_length.png\")  # Guardar imagen\n",
    "plt.close()"
   ],
   "metadata": {
    "collapsed": false,
    "ExecuteTime": {
     "end_time": "2025-03-26T06:16:27.752361Z",
     "start_time": "2025-03-26T06:16:26.678762Z"
    }
   },
   "id": "27006946751d3275",
   "execution_count": 30
  },
  {
   "cell_type": "code",
   "outputs": [],
   "source": [
    "# Top 10 canales con más videos\n",
    "top_channels = data['channel_title'].value_counts().head(10)\n",
    "plt.figure(figsize=(8, 4))\n",
    "sns.barplot(x=top_channels.values, y=top_channels.index, palette='magma', hue=top_channels.index, dodge=False)\n",
    "plt.title(\"Top 10 Canales con Más Videos\")\n",
    "plt.xlabel(\"Número de Videos\")\n",
    "plt.savefig(\"top_channels.png\")  # Guardar imagen\n",
    "plt.close()"
   ],
   "metadata": {
    "collapsed": false,
    "ExecuteTime": {
     "end_time": "2025-03-26T06:16:28.263850Z",
     "start_time": "2025-03-26T06:16:27.755665Z"
    }
   },
   "id": "656df44a05fdefba",
   "execution_count": 31
  },
  {
   "cell_type": "code",
   "outputs": [],
   "source": [
    "# Top 10 videos con más dislikes\n",
    "if 'dislikes' in data.columns:\n",
    "    top_disliked_videos = data[['title', 'dislikes']].sort_values(by='dislikes', ascending=False).head(10)\n",
    "    plt.figure(figsize=(8, 4))\n",
    "    sns.barplot(x=top_disliked_videos['dislikes'], y=top_disliked_videos['title'], palette='Reds_r', hue=top_disliked_videos['title'], legend=False)\n",
    "    plt.title(\"Top 10 Videos con Más Dislikes\")\n",
    "    plt.xlabel(\"Número de Dislikes\")\n",
    "    plt.savefig(\"top_dislikes.png\")  # Guardar imagen\n",
    "    plt.close()"
   ],
   "metadata": {
    "collapsed": false,
    "ExecuteTime": {
     "end_time": "2025-03-26T06:16:28.782964Z",
     "start_time": "2025-03-26T06:16:28.267493Z"
    }
   },
   "id": "479c8a6291409a6a",
   "execution_count": 32
  },
  {
   "cell_type": "code",
   "outputs": [
    {
     "name": "stdout",
     "output_type": "stream",
     "text": [
      "Reporte generado: YouTube_Analysis_Report.pdf\n"
     ]
    }
   ],
   "source": [
    "# 📌 CREAR REPORTE PDF (Versión mejorada)\n",
    "def generate_pdf():\n",
    "    pdf_filename = \"YouTube_Analysis_Report.pdf\"\n",
    "    c = canvas.Canvas(pdf_filename, pagesize=letter)\n",
    "    c.setFont(\"Helvetica-Bold\", 14)\n",
    "\n",
    "    # Título\n",
    "    c.drawString(200, 750, \"Reporte de Análisis de Videos de YouTube\")\n",
    "\n",
    "    # Descripción\n",
    "    c.setFont(\"Helvetica\", 10)\n",
    "    c.drawString(50, 730, f\"Consulta: {query_video}\")\n",
    "    c.drawString(50, 715, \"Este análisis muestra los videos más similares y estadísticas relevantes.\")\n",
    "\n",
    "    # Lista de videos recomendados\n",
    "    y_position = 690\n",
    "    c.setFont(\"Helvetica-Bold\", 12)\n",
    "    c.drawString(50, y_position, \"Top 10 Videos Recomendados:\")\n",
    "\n",
    "    c.setFont(\"Helvetica\", 10)\n",
    "    y_position -= 20\n",
    "    for i, row in recommended_videos.iterrows():\n",
    "        c.drawString(50, y_position, f\"{i+1}. {row['title']} - {row['channel_title']} ({row['views']} views)\")\n",
    "        y_position -= 15\n",
    "        if y_position < 100:  # Si se acaba el espacio, pasar a nueva página\n",
    "            c.showPage()\n",
    "            y_position = 750\n",
    "\n",
    "    # Función para agregar imágenes y verificar espacio\n",
    "    def add_image(image_path, title, y):\n",
    "        c.showPage()  # Nueva página para cada imagen\n",
    "        c.setFont(\"Helvetica-Bold\", 12)\n",
    "        c.drawString(50, 750, title)\n",
    "        img = ImageReader(image_path)\n",
    "        c.drawImage(img, 50, 450, width=500, height=250)\n",
    "\n",
    "    # Insertar imágenes en nuevas páginas\n",
    "    add_image(\"wordcloud.png\", \"Nube de Palabras\", 450)\n",
    "    add_image(\"title_length.png\", \"Distribución de Longitud de Títulos\", 450)\n",
    "    add_image(\"top_channels.png\", \"Top 10 Canales con Más Videos\", 450)\n",
    "\n",
    "    if 'dislikes' in data.columns:\n",
    "        add_image(\"top_dislikes.png\", \"Top 10 Videos con Más Dislikes\", 450)\n",
    "\n",
    "    # Guardar PDF\n",
    "    c.save()\n",
    "    print(f\"Reporte generado: {pdf_filename}\")\n",
    "\n",
    "# Ejecutar la generación del PDF\n",
    "generate_pdf()"
   ],
   "metadata": {
    "collapsed": false,
    "ExecuteTime": {
     "end_time": "2025-03-26T06:16:29.306686Z",
     "start_time": "2025-03-26T06:16:28.786067Z"
    }
   },
   "id": "e018c9c16ef8bf0a",
   "execution_count": 33
  }
 ],
 "metadata": {
  "kernelspec": {
   "display_name": "Python 3",
   "language": "python",
   "name": "python3"
  },
  "language_info": {
   "codemirror_mode": {
    "name": "ipython",
    "version": 2
   },
   "file_extension": ".py",
   "mimetype": "text/x-python",
   "name": "python",
   "nbconvert_exporter": "python",
   "pygments_lexer": "ipython2",
   "version": "2.7.6"
  }
 },
 "nbformat": 4,
 "nbformat_minor": 5
}
